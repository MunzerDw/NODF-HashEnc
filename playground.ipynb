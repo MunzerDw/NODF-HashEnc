{
 "cells": [
  {
   "cell_type": "code",
   "execution_count": 1,
   "metadata": {},
   "outputs": [],
   "source": [
    "import torch\n",
    "from data_module import DataModule\n",
    "from utility.utility import get_args\n",
    "import numpy as np\n",
    "from models.nodf import NODF\n",
    "import nibabel as nib\n",
    "from models.posterior import FVRF\n",
    "from utility.utility import get_mask\n",
    "\n",
    "%load_ext autoreload\n",
    "%autoreload 2"
   ]
  },
  {
   "cell_type": "markdown",
   "metadata": {},
   "source": [
    "## Args"
   ]
  },
  {
   "cell_type": "code",
   "execution_count": 2,
   "metadata": {},
   "outputs": [],
   "source": [
    "args = get_args(cmd=False)\n",
    "# TODO: modify arguments here if needed\n",
    "args.ckpt_path = 'output/paper_results/data_stanford/ours_14lvls20hm_4embedsize/hashenc/training/nodf/version_6/checkpoints/epoch=2999-step=90000.ckpt'\n",
    "# args.n_levels = 2"
   ]
  },
  {
   "cell_type": "markdown",
   "metadata": {},
   "source": [
    "## Data"
   ]
  },
  {
   "cell_type": "code",
   "execution_count": 3,
   "metadata": {},
   "outputs": [
    {
     "name": "stdout",
     "output_type": "stream",
     "text": [
      "Using precomputed signal from data/subjects/processedDWI_session1_subset01/train_signal.pt\n"
     ]
    }
   ],
   "source": [
    "data_module = DataModule(args)\n",
    "data_module.setup(\"fit\")"
   ]
  },
  {
   "cell_type": "code",
   "execution_count": 4,
   "metadata": {},
   "outputs": [
    {
     "data": {
      "text/plain": [
       "torch.Size([3895192, 3])"
      ]
     },
     "execution_count": 4,
     "metadata": {},
     "output_type": "execute_result"
    }
   ],
   "source": [
    "dataset = data_module.dataset\n",
    "dataloader = data_module.train_dataloader()\n",
    "coords = dataloader.dataset.coords\n",
    "coords.shape"
   ]
  },
  {
   "cell_type": "code",
   "execution_count": 5,
   "metadata": {},
   "outputs": [
    {
     "data": {
      "text/plain": [
       "{'coords': tensor([[0.4570, 0.4425, 0.2147],\n",
       "         [0.2199, 0.5052, 0.5131],\n",
       "         [0.3505, 0.6411, 0.7696],\n",
       "         ...,\n",
       "         [0.2509, 0.6132, 0.4188],\n",
       "         [0.6220, 0.4286, 0.4503],\n",
       "         [0.7698, 0.6202, 0.4084]]),\n",
       " 'signal': tensor([[0.4426, 0.9191, 0.4784,  ..., 0.4147, 0.4926, 0.5835],\n",
       "         [0.1539, 0.1949, 0.1098,  ..., 0.1488, 0.1360, 0.1820],\n",
       "         [0.0970, 0.1862, 0.2132,  ..., 0.1745, 0.2411, 0.1491],\n",
       "         ...,\n",
       "         [0.2104, 0.2993, 0.4312,  ..., 0.4117, 0.4690, 0.4523],\n",
       "         [0.3036, 0.2440, 0.1450,  ..., 0.0394, 0.3649, 0.0479],\n",
       "         [0.3723, 0.4193, 0.4604,  ..., 0.5558, 0.5283, 0.4778]])}"
      ]
     },
     "execution_count": 5,
     "metadata": {},
     "output_type": "execute_result"
    }
   ],
   "source": [
    "batch = next(iter(dataloader))\n",
    "batch"
   ]
  },
  {
   "cell_type": "markdown",
   "metadata": {},
   "source": [
    "## Model"
   ]
  },
  {
   "cell_type": "code",
   "execution_count": 6,
   "metadata": {},
   "outputs": [
    {
     "name": "stdout",
     "output_type": "stream",
     "text": [
      "Loading model from checkpoint\n"
     ]
    }
   ],
   "source": [
    "if args.ckpt_path:\n",
    "    print(\"Loading model from checkpoint\")\n",
    "    model = NODF.load_from_checkpoint(args.ckpt_path).cpu()\n",
    "else:\n",
    "    model = NODF(args)"
   ]
  },
  {
   "cell_type": "code",
   "execution_count": 7,
   "metadata": {},
   "outputs": [
    {
     "data": {
      "text/plain": [
       "NODF(\n",
       "  (inr): INR(\n",
       "    (net): Sequential(\n",
       "      (0): SineLayer(\n",
       "        (linear): Linear(in_features=59, out_features=64, bias=True)\n",
       "      )\n",
       "      (1): SineLayer(\n",
       "        (linear): Linear(in_features=64, out_features=64, bias=True)\n",
       "      )\n",
       "      (2): SineLayer(\n",
       "        (linear): Linear(in_features=64, out_features=64, bias=True)\n",
       "      )\n",
       "      (3): Linear(in_features=64, out_features=45, bias=False)\n",
       "    )\n",
       "  )\n",
       "  (hash_embedder): HashEmbedder(\n",
       "    (embeddings): ModuleList(\n",
       "      (0-13): 14 x Embedding(1048576, 4)\n",
       "    )\n",
       "  )\n",
       ")"
      ]
     },
     "execution_count": 7,
     "metadata": {},
     "output_type": "execute_result"
    }
   ],
   "source": [
    "model"
   ]
  },
  {
   "cell_type": "code",
   "execution_count": 8,
   "metadata": {},
   "outputs": [
    {
     "name": "stdout",
     "output_type": "stream",
     "text": [
      "inr.net.0.linear.weight: 3776\n",
      "inr.net.0.linear.bias: 64\n",
      "inr.net.1.linear.weight: 4096\n",
      "inr.net.1.linear.bias: 64\n",
      "inr.net.2.linear.weight: 4096\n",
      "inr.net.2.linear.bias: 64\n",
      "inr.net.3.weight: 2880\n",
      "hash_embedder.embeddings.0.weight: 4194304\n",
      "hash_embedder.embeddings.1.weight: 4194304\n",
      "hash_embedder.embeddings.2.weight: 4194304\n",
      "hash_embedder.embeddings.3.weight: 4194304\n",
      "hash_embedder.embeddings.4.weight: 4194304\n",
      "hash_embedder.embeddings.5.weight: 4194304\n",
      "hash_embedder.embeddings.6.weight: 4194304\n",
      "hash_embedder.embeddings.7.weight: 4194304\n",
      "hash_embedder.embeddings.8.weight: 4194304\n",
      "hash_embedder.embeddings.9.weight: 4194304\n",
      "hash_embedder.embeddings.10.weight: 4194304\n",
      "hash_embedder.embeddings.11.weight: 4194304\n",
      "hash_embedder.embeddings.12.weight: 4194304\n",
      "hash_embedder.embeddings.13.weight: 4194304\n",
      "Total Trainable Params: 58735296\n"
     ]
    },
    {
     "data": {
      "text/plain": [
       "58735296"
      ]
     },
     "execution_count": 8,
     "metadata": {},
     "output_type": "execute_result"
    }
   ],
   "source": [
    "model.count_parameters()"
   ]
  },
  {
   "cell_type": "markdown",
   "metadata": {},
   "source": [
    "## Forward Pass"
   ]
  },
  {
   "cell_type": "code",
   "execution_count": 9,
   "metadata": {},
   "outputs": [
    {
     "data": {
      "text/plain": [
       "torch.Size([65536, 45])"
      ]
     },
     "execution_count": 9,
     "metadata": {},
     "output_type": "execute_result"
    }
   ],
   "source": [
    "# ODF coefficients\n",
    "chat = model(batch)\n",
    "chat.shape"
   ]
  },
  {
   "cell_type": "markdown",
   "metadata": {},
   "source": [
    "## Posterior"
   ]
  },
  {
   "cell_type": "code",
   "execution_count": 17,
   "metadata": {},
   "outputs": [
    {
     "name": "stdout",
     "output_type": "stream",
     "text": [
      "Using precomputed signal from data/subjects/processedDWI_session1_subset01/train_signal.pt\n",
      "Using saved pointwise_estimates.pt from output/paper_results/data_stanford/ours_14lvls20hm_4embedsize/hashenc/prediction/pointwise_estimates.pt\n",
      "Using saved basis_pointwise_estimates.pt from output/paper_results/data_stanford/ours_14lvls20hm_4embedsize/hashenc/prediction/basis_pointwise_estimates.pt\n",
      "Using saved vec_W_post_mean.pt and vec_W_post_cov.pt from output/paper_results/data_stanford/ours_14lvls20hm_4embedsize/hashenc/prediction/vec_W_post_mean.pt and output/paper_results/data_stanford/ours_14lvls20hm_4embedsize/hashenc/prediction/vec_W_post_cov.pt\n"
     ]
    }
   ],
   "source": [
    "# posterior = FVRF(args)"
   ]
  },
  {
   "cell_type": "code",
   "execution_count": 11,
   "metadata": {},
   "outputs": [],
   "source": [
    "# get roi\n",
    "mask = get_mask(args)\n",
    "# axial\n",
    "mask[:168] = False\n",
    "mask[169:] = False\n",
    "# sagittal\n",
    "mask[:, :74] = False\n",
    "mask[:, 88:] = False\n",
    "# coronal\n",
    "mask[:, :, :67] = False\n",
    "mask[:, :, 85:] = False"
   ]
  },
  {
   "cell_type": "code",
   "execution_count": 12,
   "metadata": {},
   "outputs": [],
   "source": [
    "# generate posterior samples\n",
    "# post_samples_chat = posterior.sample_posterior(mask)"
   ]
  }
 ],
 "metadata": {
  "kernelspec": {
   "display_name": "frfv",
   "language": "python",
   "name": "python3"
  },
  "language_info": {
   "codemirror_mode": {
    "name": "ipython",
    "version": 3
   },
   "file_extension": ".py",
   "mimetype": "text/x-python",
   "name": "python",
   "nbconvert_exporter": "python",
   "pygments_lexer": "ipython3",
   "version": "3.8.16"
  }
 },
 "nbformat": 4,
 "nbformat_minor": 2
}
